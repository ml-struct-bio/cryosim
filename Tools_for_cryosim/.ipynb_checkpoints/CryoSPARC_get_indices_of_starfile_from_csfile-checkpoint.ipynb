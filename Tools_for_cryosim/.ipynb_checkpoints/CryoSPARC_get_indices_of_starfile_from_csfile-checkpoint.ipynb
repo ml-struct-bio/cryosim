{
 "cells": [
  {
   "cell_type": "code",
   "execution_count": 15,
   "id": "03c87c5f",
   "metadata": {},
   "outputs": [],
   "source": [
    "import os\n",
    "import os.path\n",
    "import shutil\n",
    "import logging\n",
    "import matplotlib.pyplot as plt\n",
    "import numpy as np\n",
    "import pandas as pd\n",
    "import cryodrgn\n",
    "from cryodrgn import analysis, utils, config\n",
    "from cryodrgn.starfile import Starfile\n",
    "import pandas as pd\n",
    "from cryodrgn.source import ImageSource\n",
    "from cryodrgnai.cryodrgn import mrc\n",
    "from cryodrgnai.cryodrgn import dataset"
   ]
  },
  {
   "cell_type": "code",
   "execution_count": 2,
   "id": "ab59ad4d",
   "metadata": {},
   "outputs": [],
   "source": [
    "from sklearn import metrics\n",
    "from sklearn.metrics import roc_curve, auc\n",
    "from sklearn.metrics import roc_auc_score\n",
    "import pickle\n",
    "import os, sys\n",
    "import re\n",
    "import argparse\n",
    "import pickle\n",
    "log = print"
   ]
  },
  {
   "cell_type": "code",
   "execution_count": 3,
   "id": "608649e5",
   "metadata": {},
   "outputs": [],
   "source": [
    "def natural_sort_key(s):\n",
    "    # Convert the string to a list of text and numbers\n",
    "    parts = re.split('([0-9]+)', s)\n",
    "    \n",
    "    # Convert numeric parts to integers for proper numeric comparison\n",
    "    parts[1::2] = map(int, parts[1::2])\n",
    "    \n",
    "    return parts"
   ]
  },
  {
   "cell_type": "code",
   "execution_count": 4,
   "id": "2249686f",
   "metadata": {},
   "outputs": [],
   "source": [
    "star_path = '/scratch/gpfs/ZHONGE/mj7341/research/00_moml/antibody/dataset/conformational/add_noise/128_chimera_resample/snr01/snr01_star.star'\n",
    "ori_s = Starfile.load(star_path)\n",
    "ori_df = ori_s.df"
   ]
  },
  {
   "cell_type": "code",
   "execution_count": 5,
   "id": "a9a93bb2",
   "metadata": {},
   "outputs": [],
   "source": [
    "num_class = 0\n",
    "path = '/scratch/gpfs/ZHONGE/mj7341/cryosparc/CS-chimera-resample-data/J25/J25_passthrough_particles_class_'+str(num_class)+'.cs'\n",
    "cs_file = np.load(path)"
   ]
  },
  {
   "cell_type": "markdown",
   "id": "5a8fdc90",
   "metadata": {},
   "source": [
    "### Get indices of starfile from csfile"
   ]
  },
  {
   "cell_type": "code",
   "execution_count": null,
   "id": "3c0e5a70",
   "metadata": {},
   "outputs": [],
   "source": [
    "# particle_inds_dict = {}\n",
    "# for i in range(len(cs_file)):\n",
    "#     num_vol = cs_file[i][1].split(b'_')[1].decode('utf-8')\n",
    "#     cs_vol_names = num_vol+ '_' + cs_file[i][1].split(b'_')[2].decode('utf-8') + '_'\n",
    "#     condition = (ori_df['_rlnDefocusU'] == str(cs_file[i][12])) & (ori_df['_rlnImageName'].str.contains(cs_vol_names, case=False, na=False))\n",
    "#     idx = ori_df.loc[condition].index[0]\n",
    "        \n",
    "#     if num_vol in particle_inds_dict:\n",
    "#         # Increment the count if the string is already a key\n",
    "#         particle_inds_dict[num_vol].append(idx)\n",
    "#     else:\n",
    "#         # Add the string as a new key with count 1 if it's not already in the dictionary\n",
    "#         particle_inds_dict[num_vol] = [idx]"
   ]
  },
  {
   "cell_type": "code",
   "execution_count": 29,
   "id": "e840039e",
   "metadata": {},
   "outputs": [],
   "source": [
    "def get_inds_dict_3dclass(cs_path, ori_df, num_classes, out_dir):\n",
    "    for num_class in range(num_classes):\n",
    "        path = cs_path+cs_path.split('/')[-2]+'_passthrough_particles_class_'+str(num_class)+'.cs'\n",
    "        cs_file = np.load(path)\n",
    "        \n",
    "        particle_inds_dict = {}\n",
    "        for i in range(len(cs_file)):\n",
    "            num_vol = cs_file[i][1].split(b'_')[1].decode('utf-8')\n",
    "            cs_vol_names = num_vol+ '_' + cs_file[i][1].split(b'_')[2].decode('utf-8') + '_'\n",
    "            condition = (ori_df['_rlnDefocusU'] == str(cs_file[i][12])) & (ori_df['_rlnImageName'].str.contains(cs_vol_names, case=False, na=False))\n",
    "            idx = ori_df.loc[condition].index[0]\n",
    "\n",
    "            if num_vol in particle_inds_dict:\n",
    "                # Increment the count if the string is already a key\n",
    "                particle_inds_dict[num_vol].append(idx)\n",
    "            else:\n",
    "                # Add the string as a new key with count 1 if it's not already in the dictionary\n",
    "                particle_inds_dict[num_vol] = [idx]\n",
    "        \n",
    "        with open(out_dir+\"/3dcls/3dcls_cs\"+str(num_class)+\".pkl\", \"wb\") as file:\n",
    "            pickle.dump(particle_inds_dict, file)\n",
    "            print('saved!')"
   ]
  },
  {
   "cell_type": "code",
   "execution_count": 27,
   "id": "860b8018",
   "metadata": {},
   "outputs": [],
   "source": [
    "def get_inds_dict_3dva(cs_path, ori_df, num_classes, out_dir):\n",
    "    for num_class in range(num_classes):\n",
    "        path = cs_path+cs_path.split('/')[-2]+'_cluster00'+str(num_class)+'_particles.cs'\n",
    "        cs_file = np.load(path)\n",
    "        \n",
    "        particle_inds_dict = {}\n",
    "        for i in range(len(cs_file)):\n",
    "            num_vol = cs_file[i][1].split(b'_')[1].decode('utf-8')\n",
    "            cs_vol_names = num_vol+ '_' + cs_file[i][1].split(b'_')[2].decode('utf-8') + '_'\n",
    "            condition = (ori_df['_rlnImageName'].str.contains(cs_vol_names, case=False, na=False))\n",
    "            idx = ori_df.loc[condition].iloc[cs_file[i][2]-1].name\n",
    "\n",
    "            if num_vol in particle_inds_dict:\n",
    "                # Increment the count if the string is already a key\n",
    "                particle_inds_dict[num_vol].append(idx)\n",
    "            else:\n",
    "                # Add the string as a new key with count 1 if it's not already in the dictionary\n",
    "                particle_inds_dict[num_vol] = [idx]\n",
    "        \n",
    "        with open(out_dir+\"/3dva/3dva_cs\"+str(num_class)+\".pkl\", \"wb\") as file:\n",
    "            pickle.dump(particle_inds_dict, file)\n",
    "            print('saved!')"
   ]
  },
  {
   "cell_type": "code",
   "execution_count": 31,
   "id": "13865e6d",
   "metadata": {
    "scrolled": true
   },
   "outputs": [],
   "source": [
    "# 3D Classification\n",
    "output_dir = '/scratch/gpfs/ZHONGE/mj7341/research/00_moml/antibody/dataset/conformational/cryosparc'\n",
    "cs_path = '/scratch/gpfs/ZHONGE/mj7341/cryosparc/CS-chimera-resample-data/J25/'\n",
    "get_inds_dict_3dclass(cs_path, ori_df, num_classes=1, out_dir=output_dir)"
   ]
  },
  {
   "cell_type": "code",
   "execution_count": null,
   "id": "eaf9b3fe",
   "metadata": {},
   "outputs": [],
   "source": [
    "# 3DVA\n",
    "output_dir = '/scratch/gpfs/ZHONGE/mj7341/research/00_moml/antibody/dataset/conformational/cryosparc'\n",
    "cs_path = '/scratch/gpfs/ZHONGE/mj7341/cryosparc/CS-chimera-resample-data/J25/'\n",
    "get_inds_dict_3dclass(cs_path, ori_df, num_classes=1, out_dir=output_dir)"
   ]
  },
  {
   "cell_type": "code",
   "execution_count": 8,
   "id": "4c68e69e",
   "metadata": {},
   "outputs": [],
   "source": [
    "# load pkl\n",
    "# output_dir = '/scratch/gpfs/ZHONGE/mj7341/MoML/cryosim/tools_for_MoML/'\n",
    "with open(output_dir+'/3dcls/3dcls_cs0.pkl', 'rb') as file:\n",
    "    cs0_idx = pickle.load(file)"
   ]
  },
  {
   "cell_type": "markdown",
   "id": "98c22d71",
   "metadata": {},
   "source": [
    "### Load indices pkl"
   ]
  },
  {
   "cell_type": "code",
   "execution_count": null,
   "id": "fa50c575",
   "metadata": {},
   "outputs": [],
   "source": [
    "# 3D Classification\n",
    "\n",
    "cls_5 = []\n",
    "num_classes = 5\n",
    "output_dir = '/scratch/gpfs/ZHONGE/mj7341/research/00_moml/antibody/dataset/conformational/cryosparc'\n",
    "for i in range(num_classes):\n",
    "    with open(output_dir+\"/3dcls/3dcls_cs\"+str(i)+\".pkl\", \"rb\") as file:\n",
    "        cs_idx = pickle.load(file)\n",
    "    lst = []\n",
    "    for key, value in cs_idx.items():\n",
    "        lst.append(np.array(value))\n",
    "    stacked_array = np.hstack(lst)\n",
    "    cls_5.append(stacked_array)"
   ]
  },
  {
   "cell_type": "code",
   "execution_count": null,
   "id": "bd6516de",
   "metadata": {},
   "outputs": [],
   "source": [
    "# 3DVA\n",
    "\n",
    "va_5 = []\n",
    "num_classes = 5\n",
    "output_dir = '/scratch/gpfs/ZHONGE/mj7341/research/00_moml/antibody/dataset/conformational/cryosparc'\n",
    "for i in range(num_classes):\n",
    "    with open(output_dir+\"/3dva/3dva_cs\"+str(i)+\".pkl\", \"rb\") as file:\n",
    "        cs_idx = pickle.load(file)\n",
    "    lst = []\n",
    "    for key, value in cs_idx.items():\n",
    "        lst.append(np.array(value))\n",
    "    stacked_array = np.hstack(lst)\n",
    "    va_5.append(stacked_array)"
   ]
  },
  {
   "cell_type": "markdown",
   "id": "314895f6",
   "metadata": {},
   "source": [
    "### Generating new mrcs, poses, and ctfs group baesd on the new indices"
   ]
  },
  {
   "cell_type": "code",
   "execution_count": 9,
   "id": "467873a2",
   "metadata": {},
   "outputs": [],
   "source": [
    "lst = []\n",
    "for key, value in cs0_idx.items():\n",
    "    lst.append(np.array(value))"
   ]
  },
  {
   "cell_type": "code",
   "execution_count": 12,
   "id": "d5f9bba6",
   "metadata": {},
   "outputs": [
    {
     "data": {
      "text/plain": [
       "20538"
      ]
     },
     "execution_count": 12,
     "metadata": {},
     "output_type": "execute_result"
    }
   ],
   "source": [
    "stacked_array = np.hstack(lst)\n",
    "len(stacked_array)"
   ]
  },
  {
   "cell_type": "markdown",
   "id": "f0d222cc",
   "metadata": {},
   "source": [
    "Make new mrcs"
   ]
  },
  {
   "cell_type": "code",
   "execution_count": 16,
   "id": "374cea27",
   "metadata": {
    "scrolled": true
   },
   "outputs": [
    {
     "name": "stdout",
     "output_type": "stream",
     "text": [
      "particles: (989, 128, 128)\n",
      "particles: (1000, 128, 128)\n",
      "particles: (1000, 128, 128)\n",
      "particles: (1000, 128, 128)\n",
      "particles: (1000, 128, 128)\n",
      "particles: (1000, 128, 128)\n",
      "particles: (1000, 128, 128)\n",
      "particles: (1000, 128, 128)\n",
      "particles: (999, 128, 128)\n",
      "particles: (982, 128, 128)\n",
      "particles: (877, 128, 128)\n",
      "particles: (405, 128, 128)\n",
      "particles: (117, 128, 128)\n",
      "particles: (21, 128, 128)\n",
      "particles: (1, 128, 128)\n",
      "particles: (718, 128, 128)\n",
      "particles: (113, 128, 128)\n",
      "particles: (4, 128, 128)\n",
      "particles: (8, 128, 128)\n",
      "particles: (1, 128, 128)\n",
      "particles: (991, 128, 128)\n",
      "particles: (345, 128, 128)\n",
      "particles: (12, 128, 128)\n",
      "particles: (1000, 128, 128)\n",
      "particles: (1000, 128, 128)\n",
      "particles: (1000, 128, 128)\n",
      "particles: (1000, 128, 128)\n",
      "particles: (1000, 128, 128)\n",
      "particles: (1000, 128, 128)\n",
      "particles: (955, 128, 128)\n"
     ]
    }
   ],
   "source": [
    "lst = []\n",
    "for key, value in cs0_idx.items():\n",
    "    new_vals = [val % 1000 for val in value]\n",
    "    mrcs = '/scratch/gpfs/ZHONGE/mj7341/research/00_moml/antibody/dataset/conformational/add_ctf/128_chimera_resample/mrcs/'+str(key)+'_128_particles.mrcs'\n",
    "    particles = dataset.load_particles(mrcs)[new_vals]\n",
    "    print('particles:',particles.shape)\n",
    "#     mrc.write('/scratch/gpfs/ZHONGE/mj7341/MoML/cryosim/fscs_new/3dclass/for_backproj_gt/'+str(key)+'_new_mrcs.mrcs', particles.astype(np.float32)) #, header=header)"
   ]
  },
  {
   "cell_type": "code",
   "execution_count": null,
   "id": "7081de07",
   "metadata": {},
   "outputs": [],
   "source": [
    "def sorted_particles(dir_name, extension):\n",
    "    mrcs_files = os.listdir(dir_name)\n",
    "    mrcs_lst = [file for file in mrcs_files if file.endswith(extension)]\n",
    "    sorted_lst = sorted(mrcs_lst, key=natural_sort_key)\n",
    "    print(len(sorted_lst))\n",
    "    \n",
    "    output_file_path = dir_name + 'sorted_particles.128.txt'\n",
    "\n",
    "    with open(output_file_path, 'w') as output_file:\n",
    "        for item in sorted_lst:\n",
    "    #         print(item)\n",
    "            output_file.write(item + '\\n')"
   ]
  },
  {
   "cell_type": "code",
   "execution_count": null,
   "id": "0b7320ad",
   "metadata": {},
   "outputs": [],
   "source": [
    "conf_dir_name = '/scratch/gpfs/ZHONGE/mj7341/MoML/cryosim/fscs_new/3dclass/for_backproj_gt/'\n",
    "extension = 'mrcs'"
   ]
  },
  {
   "cell_type": "code",
   "execution_count": null,
   "id": "01223403",
   "metadata": {},
   "outputs": [],
   "source": [
    "sorted_particles(conf_dir_name, extension)"
   ]
  },
  {
   "cell_type": "markdown",
   "id": "56132e70",
   "metadata": {},
   "source": [
    "Make new poses"
   ]
  },
  {
   "cell_type": "code",
   "execution_count": 18,
   "id": "b1dbe8a1",
   "metadata": {},
   "outputs": [],
   "source": [
    "path = '/scratch/gpfs/ZHONGE/mj7341/research/00_moml/antibody/dataset/conformational/integrated_poses_chimera.pkl'\n",
    "out_path = '/scratch/gpfs/ZHONGE/mj7341/MoML/cryosim/fscs_new/3dclass/for_backproj_gt/'\n",
    "integrated_poses = pickle.load(open(path, \"rb\"))"
   ]
  },
  {
   "cell_type": "code",
   "execution_count": 19,
   "id": "e886c58c",
   "metadata": {},
   "outputs": [],
   "source": [
    "selected_poses_rot = integrated_poses[0][stacked_array]\n",
    "selected_poses_trans = integrated_poses[1][stacked_array]"
   ]
  },
  {
   "cell_type": "code",
   "execution_count": null,
   "id": "3709302f",
   "metadata": {},
   "outputs": [],
   "source": [
    "sel_poses = (selected_poses_rot, selected_poses_trans)\n",
    "with open(out_path+'cls0_poses.pkl', 'wb') as file:\n",
    "    pickle.dump(sel_poses, file)"
   ]
  },
  {
   "cell_type": "markdown",
   "id": "7be0f025",
   "metadata": {},
   "source": [
    "Make new CTF"
   ]
  },
  {
   "cell_type": "code",
   "execution_count": 20,
   "id": "6c4a725c",
   "metadata": {},
   "outputs": [],
   "source": [
    "path = '/scratch/gpfs/ZHONGE/mj7341/research/00_moml/antibody/dataset/conformational/integrated_ctf.pkl'\n",
    "out_path = '/scratch/gpfs/ZHONGE/mj7341/MoML/cryosim/fscs_new/3dclass/for_backproj_gt/'\n",
    "integrated_ctfs = pickle.load(open(path, \"rb\"))"
   ]
  },
  {
   "cell_type": "code",
   "execution_count": 21,
   "id": "1860f94f",
   "metadata": {},
   "outputs": [],
   "source": [
    "selected_ctfs = integrated_ctfs[stacked_array]"
   ]
  },
  {
   "cell_type": "code",
   "execution_count": null,
   "id": "65d14ac0",
   "metadata": {},
   "outputs": [],
   "source": [
    "with open(out_path+'cls0_ctfs.pkl', 'wb') as file:\n",
    "    pickle.dump(selected_ctfs, file)"
   ]
  }
 ],
 "metadata": {
  "kernelspec": {
   "display_name": "tomodrgn [~/.conda/envs/tomodrgn/]",
   "language": "python",
   "name": "conda_tomodrgn"
  },
  "language_info": {
   "codemirror_mode": {
    "name": "ipython",
    "version": 3
   },
   "file_extension": ".py",
   "mimetype": "text/x-python",
   "name": "python",
   "nbconvert_exporter": "python",
   "pygments_lexer": "ipython3",
   "version": "3.10.13"
  }
 },
 "nbformat": 4,
 "nbformat_minor": 5
}
