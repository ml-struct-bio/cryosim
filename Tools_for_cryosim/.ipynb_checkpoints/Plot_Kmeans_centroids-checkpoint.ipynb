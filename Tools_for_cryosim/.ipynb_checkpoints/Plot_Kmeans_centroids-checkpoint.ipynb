{
 "cells": [
  {
   "cell_type": "markdown",
   "id": "ca95ed9f",
   "metadata": {},
   "source": [
    "# Kmeans centroid points"
   ]
  },
  {
   "cell_type": "code",
   "execution_count": null,
   "id": "6c93bbca",
   "metadata": {},
   "outputs": [],
   "source": [
    "import os\n",
    "import os.path\n",
    "import shutil\n",
    "import logging\n",
    "import matplotlib\n",
    "matplotlib.use('Agg')  # Set the backend to Agg\n",
    "import matplotlib.pyplot as plt\n",
    "import numpy as np\n",
    "import seaborn as sns\n",
    "import cryodrgn\n",
    "from cryodrgn import analysis, utils, config\n",
    "from cryodrgn.starfile import Starfile\n",
    "import pandas as pd\n",
    "from cryodrgn.source import ImageSource\n",
    "from sklearn.cluster import KMeans\n",
    "from scipy.spatial.distance import cdist\n",
    "\n",
    "import pickle"
   ]
  },
  {
   "cell_type": "code",
   "execution_count": 2,
   "id": "2efa533c",
   "metadata": {},
   "outputs": [],
   "source": [
    "def cluster_kmeans(\n",
    "    z: np.ndarray, K: int, on_data: bool = True, reorder: bool = True\n",
    "):\n",
    "    \"\"\"\n",
    "    Cluster z by K means clustering\n",
    "    Returns cluster labels, cluster centers\n",
    "    If reorder=True, reorders clusters according to agglomerative clustering of cluster centers\n",
    "    \"\"\"\n",
    "    kmeans = KMeans(n_clusters=K, random_state=0, max_iter=10)\n",
    "    labels = kmeans.fit_predict(z)\n",
    "    centers = kmeans.cluster_centers_\n",
    "\n",
    "    centers_ind = None\n",
    "    if on_data:\n",
    "        centers, centers_ind = get_nearest_point(z, centers)\n",
    "\n",
    "    if reorder:\n",
    "        g = sns.clustermap(centers)\n",
    "        reordered = g.dendrogram_row.reordered_ind\n",
    "        centers = centers[reordered]\n",
    "        if centers_ind is not None:\n",
    "            centers_ind = centers_ind[reordered]\n",
    "        tmp = {k: i for i, k in enumerate(reordered)}\n",
    "        labels = np.array([tmp[k] for k in labels])\n",
    "    return labels, centers\n",
    "\n",
    "def get_nearest_point(\n",
    "    data: np.ndarray, query: np.ndarray\n",
    "):\n",
    "    \"\"\"\n",
    "    Find closest point in @data to @query\n",
    "    Return datapoint, index\n",
    "    \"\"\"\n",
    "    ind = cdist(query, data).argmin(axis=1)\n",
    "    return data[ind], ind"
   ]
  },
  {
   "cell_type": "code",
   "execution_count": 3,
   "id": "2cf15fe0",
   "metadata": {},
   "outputs": [],
   "source": [
    "import pickle\n",
    "filepath = '/scratch/gpfs/ZHONGE/mj7341/research/00_moml/antibody/dataset/conformational/integrated_poses_chimera.pkl'\n",
    "with open(filepath, 'rb') as file:\n",
    "    poses = pickle.load(file)"
   ]
  },
  {
   "cell_type": "code",
   "execution_count": 4,
   "id": "5a7c52e0",
   "metadata": {},
   "outputs": [],
   "source": [
    "rots = poses[0].reshape(len(poses[0]),-1)\n",
    "trans = poses[1]"
   ]
  },
  {
   "cell_type": "code",
   "execution_count": 5,
   "id": "a04c7504",
   "metadata": {},
   "outputs": [],
   "source": [
    "star_path = '/scratch/gpfs/ZHONGE/mj7341/research/00_moml/antibody/dataset/conformational/add_noise/128_chimera_resample/snr01/snr01_star.star'\n",
    "ori_s = Starfile.load(star_path)\n",
    "ori_df = ori_s.df"
   ]
  },
  {
   "cell_type": "markdown",
   "id": "687dd134",
   "metadata": {},
   "source": [
    "**UMap**"
   ]
  },
  {
   "cell_type": "code",
   "execution_count": null,
   "id": "41e16e88",
   "metadata": {},
   "outputs": [],
   "source": [
    "rots = poses[0].reshape(len(poses[0]),-1)\n",
    "umap_emb_rot = analysis.run_umap(rots)\n",
    "umap_emb_trans = analysis.run_umap(poses[1]) # translation (rotation & translation)"
   ]
  },
  {
   "cell_type": "markdown",
   "id": "68043070",
   "metadata": {},
   "source": [
    "**PCA**"
   ]
  },
  {
   "cell_type": "code",
   "execution_count": null,
   "id": "c4d93ebe",
   "metadata": {},
   "outputs": [],
   "source": [
    "from sklearn.decomposition import PCA\n",
    "def run_pca(z: np.ndarray):\n",
    "    pca = PCA(z.shape[1])\n",
    "    pca.fit(z)\n",
    "    pc = pca.transform(z)\n",
    "    return pc, pca"
   ]
  },
  {
   "cell_type": "code",
   "execution_count": null,
   "id": "7cad5905",
   "metadata": {},
   "outputs": [],
   "source": [
    "rots = poses[0].reshape(len(poses[0]),-1)\n",
    "pc_rot, pca_rot = run_pca(rots)\n",
    "pc_trans, pca_trans = run_pca(poses[1])"
   ]
  },
  {
   "cell_type": "markdown",
   "id": "f6b22ac7",
   "metadata": {},
   "source": [
    "### 87 ground truth kmeans"
   ]
  },
  {
   "cell_type": "code",
   "execution_count": 23,
   "id": "749b3d6b",
   "metadata": {},
   "outputs": [],
   "source": [
    "ind_dir = '/scratch/gpfs/ZHONGE/mj7341/research/00_moml/antibody/dataset/conformational/cryosparc'"
   ]
  },
  {
   "cell_type": "code",
   "execution_count": 1,
   "id": "fb829498",
   "metadata": {
    "scrolled": true
   },
   "outputs": [],
   "source": [
    "K=10\n",
    "rots_inds = np.zeros((87,K)).astype(int)\n",
    "trans_inds = np.zeros((87,K)).astype(int)\n",
    "for i in range(87):\n",
    "    idx = np.arange(1000*i,1000*(i+1))\n",
    "    rots_kmeans_labels, rots_centers=cluster_kmeans(rots[idx],K)\n",
    "    _, rots_centers_ind = get_nearest_point(rots[idx], rots_centers)\n",
    "    \n",
    "    trans_kmeans_labels, trans_centers=cluster_kmeans(trans[idx],K)\n",
    "    _, trans_centers_ind = get_nearest_point(trans[idx], trans_centers)\n",
    "    rots_inds[i] = rots_centers_ind\n",
    "    trans_inds[i] = trans_centers_ind\n",
    "\n",
    "np.save(f\"{ind_dir}/rots_inds_87models_k\"+str(K)+\".npy\", rots_inds)\n",
    "np.save(f\"{ind_dir}/trans_inds_87models_k\"+str(K)+\".npy\", trans_inds)"
   ]
  },
  {
   "cell_type": "code",
   "execution_count": null,
   "id": "5c650809",
   "metadata": {},
   "outputs": [],
   "source": [
    "# figure\n",
    "fig, axs = plt.subplots(1,2, figsize=(10,5))\n",
    "for i in range(87):\n",
    "    idx = np.arange(1000*i,1000*(i+1))    \n",
    "    axs[0].scatter(pc_rot[rots_inds[i]][:, 0], pc_rot[rots_inds[i]][:, 1], alpha=1, s=10, rasterized=True, c=hexcodes[i])\n",
    "    axs[1].scatter(pc_trans[trans_inds[i]][:, 0], pc_trans[trans_inds[i]][:, 1], alpha=1, s=10, rasterized=True, c=hexcodes[i])\n",
    "\n",
    "axs[0].set_title('Rots')\n",
    "axs[1].set_title('Trans')\n",
    "for ax in axs.flat:\n",
    "    ax.set(xlabel='UMAP1', ylabel='UMAP2')\n",
    "\n",
    "plt.tight_layout()\n",
    "plt.savefig(f\"{ind_dir}/poses_87models_kmeans\"+str(K)+\"_PCs.png\")"
   ]
  },
  {
   "cell_type": "markdown",
   "id": "9876497c",
   "metadata": {},
   "source": [
    "### 3D Classification (num classes = 5)"
   ]
  },
  {
   "cell_type": "markdown",
   "id": "b22770fc",
   "metadata": {},
   "source": [
    "- plot only centroids of kmeans"
   ]
  },
  {
   "cell_type": "code",
   "execution_count": 6,
   "id": "4ad13382",
   "metadata": {},
   "outputs": [],
   "source": [
    "ind_dir = '/scratch/gpfs/ZHONGE/mj7341/research/00_moml/antibody/dataset/conformational/cryosparc'"
   ]
  },
  {
   "cell_type": "code",
   "execution_count": 7,
   "id": "dfb9b773",
   "metadata": {},
   "outputs": [],
   "source": [
    "# original code: 20231210_fsc_auc\n",
    "cls_5 = []\n",
    "num_classes = 5\n",
    "for i in range(num_classes):\n",
    "    with open(ind_dir+'/3dcls/3dcls_cs'+str(i)+'.pkl', 'rb') as file:\n",
    "        cs_idx = pickle.load(file)\n",
    "    lst = []\n",
    "    for key, value in cs_idx.items():\n",
    "        lst.append(np.array(value))\n",
    "    stacked_array = np.hstack(lst)\n",
    "    cls_5.append(stacked_array)"
   ]
  },
  {
   "cell_type": "code",
   "execution_count": 9,
   "id": "7237030c",
   "metadata": {
    "scrolled": true
   },
   "outputs": [
    {
     "name": "stderr",
     "output_type": "stream",
     "text": [
      "/home/mj7341/.conda/envs/tomodrgn/lib/python3.10/site-packages/sklearn/cluster/_kmeans.py:1412: FutureWarning: The default value of `n_init` will change from 10 to 'auto' in 1.4. Set the value of `n_init` explicitly to suppress the warning\n",
      "  super()._check_params_vs_input(X, default_n_init=10)\n",
      "/home/mj7341/.conda/envs/tomodrgn/lib/python3.10/site-packages/sklearn/cluster/_kmeans.py:1412: FutureWarning: The default value of `n_init` will change from 10 to 'auto' in 1.4. Set the value of `n_init` explicitly to suppress the warning\n",
      "  super()._check_params_vs_input(X, default_n_init=10)\n",
      "/home/mj7341/.conda/envs/tomodrgn/lib/python3.10/site-packages/sklearn/cluster/_kmeans.py:1412: FutureWarning: The default value of `n_init` will change from 10 to 'auto' in 1.4. Set the value of `n_init` explicitly to suppress the warning\n",
      "  super()._check_params_vs_input(X, default_n_init=10)\n",
      "/home/mj7341/.conda/envs/tomodrgn/lib/python3.10/site-packages/sklearn/cluster/_kmeans.py:1412: FutureWarning: The default value of `n_init` will change from 10 to 'auto' in 1.4. Set the value of `n_init` explicitly to suppress the warning\n",
      "  super()._check_params_vs_input(X, default_n_init=10)\n",
      "/home/mj7341/.conda/envs/tomodrgn/lib/python3.10/site-packages/sklearn/cluster/_kmeans.py:1412: FutureWarning: The default value of `n_init` will change from 10 to 'auto' in 1.4. Set the value of `n_init` explicitly to suppress the warning\n",
      "  super()._check_params_vs_input(X, default_n_init=10)\n",
      "/home/mj7341/.conda/envs/tomodrgn/lib/python3.10/site-packages/sklearn/cluster/_kmeans.py:1412: FutureWarning: The default value of `n_init` will change from 10 to 'auto' in 1.4. Set the value of `n_init` explicitly to suppress the warning\n",
      "  super()._check_params_vs_input(X, default_n_init=10)\n",
      "/home/mj7341/.conda/envs/tomodrgn/lib/python3.10/site-packages/sklearn/cluster/_kmeans.py:1412: FutureWarning: The default value of `n_init` will change from 10 to 'auto' in 1.4. Set the value of `n_init` explicitly to suppress the warning\n",
      "  super()._check_params_vs_input(X, default_n_init=10)\n",
      "/home/mj7341/.conda/envs/tomodrgn/lib/python3.10/site-packages/sklearn/cluster/_kmeans.py:1412: FutureWarning: The default value of `n_init` will change from 10 to 'auto' in 1.4. Set the value of `n_init` explicitly to suppress the warning\n",
      "  super()._check_params_vs_input(X, default_n_init=10)\n",
      "/home/mj7341/.conda/envs/tomodrgn/lib/python3.10/site-packages/sklearn/cluster/_kmeans.py:1412: FutureWarning: The default value of `n_init` will change from 10 to 'auto' in 1.4. Set the value of `n_init` explicitly to suppress the warning\n",
      "  super()._check_params_vs_input(X, default_n_init=10)\n",
      "/home/mj7341/.conda/envs/tomodrgn/lib/python3.10/site-packages/sklearn/cluster/_kmeans.py:1412: FutureWarning: The default value of `n_init` will change from 10 to 'auto' in 1.4. Set the value of `n_init` explicitly to suppress the warning\n",
      "  super()._check_params_vs_input(X, default_n_init=10)\n"
     ]
    }
   ],
   "source": [
    "K=10 # number of clusters\n",
    "rots_inds = []\n",
    "trans_inds = []\n",
    "for i in range(len(cls_5)):\n",
    "    rots_kmeans_labels, rots_centers=cluster_kmeans(rots[cls_5[i]],K)\n",
    "    _, rots_centers_ind = get_nearest_point(rots[cls_5[i]], rots_centers)\n",
    "    \n",
    "    trans_kmeans_labels, trans_centers=cluster_kmeans(trans[cls_5[i]],K)\n",
    "    _, trans_centers_ind = get_nearest_point(trans[cls_5[i]], trans_centers)\n",
    "\n",
    "    rots_inds.append(rots_centers_ind)\n",
    "    trans_inds.append(trans_centers_ind)"
   ]
  },
  {
   "cell_type": "markdown",
   "id": "4cb74001",
   "metadata": {},
   "source": [
    "**UMap**"
   ]
  },
  {
   "cell_type": "code",
   "execution_count": 16,
   "id": "a4018459",
   "metadata": {},
   "outputs": [],
   "source": [
    "labels = np.arange(5)\n",
    "fig, axs = plt.subplots(1,2, figsize=(10,5))\n",
    "\n",
    "for i in range(5): # 5: class\n",
    "    axs[0].scatter(umap_emb_rot[rots_inds[i]][:, 0], umap_emb_rot[rots_inds[i]][:, 1], alpha=1, s=30, rasterized=True, label=labels[i])\n",
    "    axs[1].scatter(umap_emb_trans[trans_inds[i]][:, 0], umap_emb_trans[trans_inds[i]][:, 1], alpha=1, s=30, rasterized=True, label=labels[i])\n",
    "    \n",
    "axs[0].set_title('Rots')\n",
    "axs[1].set_title('Trans')\n",
    "for ax in axs.flat:\n",
    "    ax.set(xlabel='UMAP1', ylabel='UMAP2')\n",
    "axs[0].legend()\n",
    "axs[1].legend()\n",
    "\n",
    "plt.tight_layout()\n",
    "plt.savefig(f\"{ind_dir}/3dcls/poses_kmeans\"+str(K)+\"_umap.png\")"
   ]
  },
  {
   "cell_type": "markdown",
   "id": "ef226018",
   "metadata": {},
   "source": [
    "**PCA**"
   ]
  },
  {
   "cell_type": "code",
   "execution_count": 21,
   "id": "924307db",
   "metadata": {},
   "outputs": [],
   "source": [
    "fig, axs = plt.subplots(1,2, figsize=(10,5))\n",
    "labels = np.arange(K)\n",
    "for i in range(5):\n",
    "    axs[0].scatter(pc_rot[rots_inds[i]][:, 0], pc_rot[rots_inds[i]][:, 1], alpha=1, s=30, rasterized=True, label=labels[i])\n",
    "    axs[1].scatter(pc_trans[trans_inds[i]][:, 0], pc_trans[trans_inds[i]][:, 1], alpha=1, s=30, rasterized=True, label=labels[i])\n",
    "    \n",
    "axs[0].set_title('Rots')\n",
    "axs[1].set_title('Trans')\n",
    "for ax in axs.flat:\n",
    "    ax.set(xlabel='UMAP1', ylabel='UMAP2')\n",
    "axs[0].legend()\n",
    "axs[1].legend()\n",
    "plt.tight_layout()\n",
    "plt.savefig(f\"{ind_dir}/3dcls/poses_kmeans\"+str(K)+\"_PCs.png\")"
   ]
  },
  {
   "cell_type": "code",
   "execution_count": null,
   "id": "39be4606",
   "metadata": {},
   "outputs": [],
   "source": []
  }
 ],
 "metadata": {
  "kernelspec": {
   "display_name": "tomodrgn [~/.conda/envs/tomodrgn/]",
   "language": "python",
   "name": "conda_tomodrgn"
  },
  "language_info": {
   "codemirror_mode": {
    "name": "ipython",
    "version": 3
   },
   "file_extension": ".py",
   "mimetype": "text/x-python",
   "name": "python",
   "nbconvert_exporter": "python",
   "pygments_lexer": "ipython3",
   "version": "3.10.13"
  }
 },
 "nbformat": 4,
 "nbformat_minor": 5
}
