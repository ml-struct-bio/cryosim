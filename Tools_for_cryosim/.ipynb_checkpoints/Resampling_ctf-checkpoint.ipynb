{
 "cells": [
  {
   "cell_type": "code",
   "execution_count": 9,
   "id": "41094b31",
   "metadata": {},
   "outputs": [],
   "source": [
    "import pickle\n",
    "import os\n",
    "import re\n",
    "import numpy as np"
   ]
  },
  {
   "cell_type": "code",
   "execution_count": 10,
   "id": "8514429c",
   "metadata": {},
   "outputs": [],
   "source": [
    "def mkbasedir(out):\n",
    "    if not os.path.exists(os.path.dirname(out)):\n",
    "        os.makedirs(os.path.dirname(out))"
   ]
  },
  {
   "cell_type": "markdown",
   "id": "b0948ee0",
   "metadata": {},
   "source": [
    "conformational"
   ]
  },
  {
   "cell_type": "code",
   "execution_count": 11,
   "id": "63f5db7c",
   "metadata": {},
   "outputs": [],
   "source": [
    "conf_ctfs_dir = '/home/mj7341/dev/research/00_moml/antibody/dataset/conformational/ctfs'\n",
    "mkbasedir(conf_ctfs_dir)"
   ]
  },
  {
   "cell_type": "code",
   "execution_count": 12,
   "id": "0fc93951",
   "metadata": {},
   "outputs": [
    {
     "name": "stdout",
     "output_type": "stream",
     "text": [
      "84842 (9,)\n"
     ]
    }
   ],
   "source": [
    "filepath='/scratch/gpfs/ZHONGE/mj7341/research/00_moml/antibody/dataset/conformational/ctf_ryan.pkl'\n",
    "with open(filepath, 'rb') as file:\n",
    "    data = pickle.load(file)\n",
    "print(len(data), data[0].shape)"
   ]
  },
  {
   "cell_type": "code",
   "execution_count": 13,
   "id": "3bce10e3",
   "metadata": {},
   "outputs": [],
   "source": [
    "for i in range(1,88):\n",
    "    sampled_indices = np.random.choice(data.shape[0], size=1000, replace=False)\n",
    "    new_ctf = data[sampled_indices]\n",
    "    new_ctf[:,0] = 128.0\n",
    "    new_ctf[:,1] = 3.0\n",
    "    new_ctf[:,5] = 300.0\n",
    "    save_file_path = os.path.join(conf_ctfs_dir, 'ctfs_'+str(i)+'.pkl')\n",
    "    with open(save_file_path, 'wb') as file:\n",
    "        pickle.dump(new_ctf, file)"
   ]
  },
  {
   "cell_type": "markdown",
   "id": "66aa2566",
   "metadata": {},
   "source": [
    "compositional"
   ]
  },
  {
   "cell_type": "code",
   "execution_count": null,
   "id": "7a0d343c",
   "metadata": {},
   "outputs": [],
   "source": [
    "comp_ctfs_dir = '/scratch/gpfs/ZHONGE/mj7341/research/00_moml/antibody/dataset/compositional/ctfs/'\n",
    "mkbasedir(comp_ctfs_dir)"
   ]
  },
  {
   "cell_type": "code",
   "execution_count": null,
   "id": "0dd4e703",
   "metadata": {},
   "outputs": [],
   "source": [
    "filepath='/scratch/gpfs/ZHONGE/mj7341/research/00_moml/antibody/dataset/conformational/ctf_ryan.pkl'\n",
    "with open(filepath, 'rb') as file:\n",
    "    data = pickle.load(file)\n",
    "print(len(data), data[0].shape)"
   ]
  },
  {
   "cell_type": "code",
   "execution_count": null,
   "id": "184fc722",
   "metadata": {},
   "outputs": [],
   "source": [
    "for i in range(1,436):\n",
    "    sampled_indices = np.random.choice(data.shape[0], size=1000, replace=False)\n",
    "    new_ctf = data[sampled_indices]\n",
    "    new_ctf[:,0] = 128.0\n",
    "    new_ctf[:,1] = 3.0\n",
    "    new_ctf[:,5] = 300.0\n",
    "    save_file_path = os.path.join(comp_ctfs_dir, 'ctfs_'+str(i)+'.pkl')\n",
    "    with open(save_file_path, 'wb') as file:\n",
    "        pickle.dump(new_ctf, file)"
   ]
  }
 ],
 "metadata": {
  "kernelspec": {
   "display_name": "tomodrgn [~/.conda/envs/tomodrgn/]",
   "language": "python",
   "name": "conda_tomodrgn"
  },
  "language_info": {
   "codemirror_mode": {
    "name": "ipython",
    "version": 3
   },
   "file_extension": ".py",
   "mimetype": "text/x-python",
   "name": "python",
   "nbconvert_exporter": "python",
   "pygments_lexer": "ipython3",
   "version": "3.10.13"
  }
 },
 "nbformat": 4,
 "nbformat_minor": 5
}
