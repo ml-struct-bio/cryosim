{
 "cells": [
  {
   "cell_type": "code",
   "execution_count": 1,
   "id": "59ffe3fe",
   "metadata": {},
   "outputs": [],
   "source": [
    "import pickle\n",
    "import os, sys\n",
    "import re\n",
    "import numpy as np\n",
    "import argparse\n",
    "\n",
    "log = print"
   ]
  },
  {
   "cell_type": "code",
   "execution_count": 2,
   "id": "3b63faf8",
   "metadata": {},
   "outputs": [],
   "source": [
    "def natural_sort_key(s):\n",
    "    # Convert the string to a list of text and numbers\n",
    "    parts = re.split('([0-9]+)', s)\n",
    "    \n",
    "    # Convert numeric parts to integers for proper numeric comparison\n",
    "    parts[1::2] = map(int, parts[1::2])\n",
    "    \n",
    "    return parts"
   ]
  },
  {
   "cell_type": "code",
   "execution_count": 17,
   "id": "ac20c98d",
   "metadata": {},
   "outputs": [],
   "source": [
    "def sort_and_integrate_and_save(dir_name, out_filenames):\n",
    "    # Sorting\n",
    "    files = os.listdir(dir_name)\n",
    "    lst = []\n",
    "    for i in range(len(files)):\n",
    "        lst.append(dir_name + files[i])\n",
    "    sorted_pkl = sorted(lst, key=natural_sort_key)\n",
    "    \n",
    "    # Integrating\n",
    "    x = [pickle.load(open(f,'rb')) for f in sorted_pkl]\n",
    "    if type(x[0]) == tuple: # pose tuples\n",
    "        r = [xx[0] for xx in x]\n",
    "        t = [xx[1] for xx in x]\n",
    "        r2 = np.concatenate(r)\n",
    "        t2 = np.concatenate(t)\n",
    "        log(r2.shape)\n",
    "        log(t2.shape)\n",
    "        x2 = (r2,t2)\n",
    "    else:\n",
    "        for i in x:\n",
    "            log(i.shape)\n",
    "        x2 = np.concatenate(x)\n",
    "        log(x2.shape)\n",
    "    \n",
    "    # Save\n",
    "    pickle.dump(x2, open(out_filenames,'wb'))\n",
    "    with open(out_filenames, 'rb') as file:\n",
    "        data = pickle.load(file)"
   ]
  },
  {
   "cell_type": "code",
   "execution_count": 19,
   "id": "adf243fe",
   "metadata": {},
   "outputs": [],
   "source": [
    "def mkbasedir(out):\n",
    "    if not os.path.exists(os.path.dirname(out)):\n",
    "        os.makedirs(os.path.dirname(out))"
   ]
  },
  {
   "cell_type": "markdown",
   "id": "5569da69",
   "metadata": {},
   "source": [
    "### Poses"
   ]
  },
  {
   "cell_type": "markdown",
   "id": "ae02d5f0",
   "metadata": {},
   "source": [
    "conformational"
   ]
  },
  {
   "cell_type": "code",
   "execution_count": 4,
   "id": "37e4a24e",
   "metadata": {},
   "outputs": [],
   "source": [
    "conf_poses_dir = '/home/mj7341/dev/research/00_moml/antibody/dataset/conformational/3d_projected/128/poses/'\n",
    "conf_poses_out_filenames = '/home/mj7341/dev/research/00_moml/antibody/dataset/conformational/integrated_poses.pkl'\n",
    "sort_and_integrate_and_save(conf_poses_dir, conf_poses_out_filenames)"
   ]
  },
  {
   "cell_type": "markdown",
   "id": "5e4142ee",
   "metadata": {},
   "source": [
    "compositional"
   ]
  },
  {
   "cell_type": "code",
   "execution_count": null,
   "id": "99dd24a3",
   "metadata": {},
   "outputs": [],
   "source": [
    "comp_poses_dir = '/home/mj7341/dev/research/00_moml/antibody/dataset/compositional/3d_projected/128/poses/'\n",
    "comp_poses_out_filenames = '/home/mj7341/dev/research/00_moml/antibody/dataset/compositional/integrated_poses.pkl'\n",
    "sort_and_integrate_and_save(comp_poses_dir, com_out_filenames)"
   ]
  },
  {
   "cell_type": "markdown",
   "id": "3b380bb2",
   "metadata": {},
   "source": [
    "### Ctfs"
   ]
  },
  {
   "cell_type": "markdown",
   "id": "a6c38265",
   "metadata": {},
   "source": [
    "conformational"
   ]
  },
  {
   "cell_type": "code",
   "execution_count": null,
   "id": "0ed774a1",
   "metadata": {},
   "outputs": [],
   "source": [
    "conf_ctfs_dir = '/home/mj7341/dev/research/00_moml/antibody/dataset/conformational/ctfs/'\n",
    "conf_ctf_out_filenames = '/home/mj7341/dev/research/00_moml/antibody/dataset/conformational/integrated_ctf.pkl'\n",
    "sort_and_integrate_and_save(conf_ctfs_dir, conf_ctf_out_filenames)"
   ]
  },
  {
   "cell_type": "markdown",
   "id": "23dab290",
   "metadata": {},
   "source": [
    "compositional"
   ]
  },
  {
   "cell_type": "code",
   "execution_count": null,
   "id": "3bafad15",
   "metadata": {},
   "outputs": [],
   "source": [
    "comp_ctfs_dir = '/home/mj7341/dev/research/00_moml/antibody/dataset/compositional/ctfs/'\n",
    "comp_ctf_out_filenames = '/home/mj7341/dev/research/00_moml/antibody/dataset/compositional/integrated_ctf.pkl'\n",
    "sort_and_integrate_and_save(comp_ctfs_dir, comp_ctf_out_filenames)"
   ]
  },
  {
   "cell_type": "code",
   "execution_count": null,
   "id": "435bd4ef",
   "metadata": {},
   "outputs": [],
   "source": [
    "def print_ctf_params(params):\n",
    "    assert len(params) == 9\n",
    "    log('Image size (pix)  : {}'.format(int(params[0])))\n",
    "    log('A/pix             : {}'.format(params[1]))\n",
    "    log('DefocusU (A)      : {}'.format(params[2]))\n",
    "    log('DefocusV (A)      : {}'.format(params[3]))\n",
    "    log('Dfang (deg)       : {}'.format(params[4]))\n",
    "    log('voltage (kV)      : {}'.format(params[5]))\n",
    "    log('cs (mm)           : {}'.format(params[6]))\n",
    "    log('w                 : {}'.format(params[7]))\n",
    "    log('Phase shift (deg) : {}'.format(params[8]))"
   ]
  },
  {
   "cell_type": "code",
   "execution_count": null,
   "id": "f2484502",
   "metadata": {},
   "outputs": [],
   "source": [
    "metadata = '/scratch/gpfs/ZHONGE/mj7341/research/00_moml/antibody/dataset/compositional/integrated_ctf.pkl'\n",
    "metadata = pickle.load(open(metadata,'rb'))"
   ]
  },
  {
   "cell_type": "code",
   "execution_count": null,
   "id": "c4a5d93f",
   "metadata": {},
   "outputs": [],
   "source": [
    "defocusU = []\n",
    "defocusV = []\n",
    "Dfang = []\n",
    "for i in range(len(metadata)):\n",
    "    defocusU.append(metadata[i][2])\n",
    "    defocusV.append(metadata[i][3])\n",
    "    Dfang.append(metadata[i][4])\n",
    "print(metadata[0])\n",
    "print(metadata[1])"
   ]
  },
  {
   "cell_type": "markdown",
   "id": "b7dd6e77",
   "metadata": {},
   "source": [
    "### Sorted particles txt -- for cryodrgn input"
   ]
  },
  {
   "cell_type": "code",
   "execution_count": 18,
   "id": "96d23a44",
   "metadata": {},
   "outputs": [],
   "source": [
    "def sorted_particles(dir_name, extension):\n",
    "    mrcs_files = os.listdir(dir_name)\n",
    "    mrcs_lst = [file for file in mrcs_files if file.endswith(extension)]\n",
    "    sorted_lst = sorted(mrcs_lst, key=natural_sort_key)\n",
    "    print(len(sorted_lst))\n",
    "    \n",
    "    output_file_path = dir_name + 'sorted_particles.128.txt'\n",
    "\n",
    "    with open(output_file_path, 'w') as output_file:\n",
    "        for item in sorted_lst:\n",
    "    #         print(item)\n",
    "            output_file.write(item + '\\n')"
   ]
  },
  {
   "cell_type": "markdown",
   "id": "8b518003",
   "metadata": {},
   "source": [
    "conformational"
   ]
  },
  {
   "cell_type": "code",
   "execution_count": null,
   "id": "1e88477c",
   "metadata": {},
   "outputs": [],
   "source": [
    "conf_dir_name = '/scratch/gpfs/ZHONGE/mj7341/research/00_moml/antibody/dataset/conformational/add_noise/mrcs/'\n",
    "extension = 'mrcs'"
   ]
  },
  {
   "cell_type": "code",
   "execution_count": null,
   "id": "c9b6ecf3",
   "metadata": {},
   "outputs": [],
   "source": [
    "sorted_particles(conf_dir_name, extension)"
   ]
  },
  {
   "cell_type": "markdown",
   "id": "48667063",
   "metadata": {},
   "source": [
    "compositional"
   ]
  },
  {
   "cell_type": "code",
   "execution_count": null,
   "id": "140ece42",
   "metadata": {},
   "outputs": [],
   "source": [
    "comp_dir_name = '/scratch/gpfs/ZHONGE/mj7341/research/00_moml/antibody/dataset/compositional/add_noise/mrcs/'\n",
    "extension = 'mrcs'"
   ]
  },
  {
   "cell_type": "code",
   "execution_count": null,
   "id": "19d48363",
   "metadata": {},
   "outputs": [],
   "source": [
    "sorted_particles(comp_dir_name, extension)"
   ]
  }
 ],
 "metadata": {
  "kernelspec": {
   "display_name": "tomodrgn [~/.conda/envs/tomodrgn/]",
   "language": "python",
   "name": "conda_tomodrgn"
  },
  "language_info": {
   "codemirror_mode": {
    "name": "ipython",
    "version": 3
   },
   "file_extension": ".py",
   "mimetype": "text/x-python",
   "name": "python",
   "nbconvert_exporter": "python",
   "pygments_lexer": "ipython3",
   "version": "3.10.13"
  }
 },
 "nbformat": 4,
 "nbformat_minor": 5
}
