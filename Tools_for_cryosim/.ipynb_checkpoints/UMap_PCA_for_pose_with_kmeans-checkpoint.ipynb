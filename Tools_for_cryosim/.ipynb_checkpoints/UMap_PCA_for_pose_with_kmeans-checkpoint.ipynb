{
 "cells": [
  {
   "cell_type": "code",
   "execution_count": 1,
   "id": "bdfe8825",
   "metadata": {},
   "outputs": [],
   "source": [
    "import os\n",
    "import os.path\n",
    "import shutil\n",
    "import logging\n",
    "import matplotlib\n",
    "matplotlib.use('Agg')  # Set the backend to Agg\n",
    "import matplotlib.pyplot as plt\n",
    "import numpy as np\n",
    "import seaborn as sns\n",
    "import cryodrgn\n",
    "from cryodrgn import analysis, utils, config\n",
    "from cryodrgn.starfile import Starfile\n",
    "import pandas as pd\n",
    "from cryodrgn.source import ImageSource\n",
    "from sklearn.cluster import KMeans\n",
    "from scipy.spatial.distance import cdist"
   ]
  },
  {
   "cell_type": "markdown",
   "id": "bf3dd3d5",
   "metadata": {},
   "source": [
    "Load integrated pose"
   ]
  },
  {
   "cell_type": "code",
   "execution_count": 2,
   "id": "e40d2a6f",
   "metadata": {},
   "outputs": [],
   "source": [
    "import pickle\n",
    "filepath = '/scratch/gpfs/ZHONGE/mj7341/research/00_moml/antibody/dataset/conformational/integrated_poses_chimera.pkl'\n",
    "with open(filepath, 'rb') as file:\n",
    "    poses = pickle.load(file)"
   ]
  },
  {
   "cell_type": "code",
   "execution_count": 3,
   "id": "0c8a73de",
   "metadata": {},
   "outputs": [],
   "source": [
    "rots = poses[0].reshape(len(poses[0]),-1)\n",
    "trans = poses[1]"
   ]
  },
  {
   "cell_type": "code",
   "execution_count": 4,
   "id": "48683b85",
   "metadata": {},
   "outputs": [],
   "source": [
    "outdir = '/scratch/gpfs/ZHONGE/mj7341/MoML/cryosim/umap_pca'"
   ]
  },
  {
   "cell_type": "markdown",
   "id": "7b51ff08",
   "metadata": {},
   "source": [
    "Load starfile"
   ]
  },
  {
   "cell_type": "code",
   "execution_count": 5,
   "id": "2148a3a6",
   "metadata": {},
   "outputs": [],
   "source": [
    "star_path = '/scratch/gpfs/ZHONGE/mj7341/research/00_moml/antibody/dataset/conformational/add_noise/128_chimera_resample/snr01/snr01_star.star'\n",
    "ori_s = Starfile.load(star_path)\n",
    "ori_df = ori_s.df"
   ]
  },
  {
   "cell_type": "markdown",
   "id": "ef267d70",
   "metadata": {},
   "source": [
    "# UMap"
   ]
  },
  {
   "cell_type": "code",
   "execution_count": 7,
   "id": "d84cc4f4",
   "metadata": {},
   "outputs": [],
   "source": [
    "umap_emb_rot = analysis.run_umap(rots)\n",
    "umap_emb_trans = analysis.run_umap(trans) "
   ]
  },
  {
   "cell_type": "code",
   "execution_count": 8,
   "id": "132bcbef",
   "metadata": {},
   "outputs": [],
   "source": [
    "np.save(f\"{outdir}/embeds/umap/umap_emb_rot.npy\", umap_emb_rot)\n",
    "np.save(f\"{outdir}/embeds/umap/umap_emb_trans.npy\", umap_emb_trans)"
   ]
  },
  {
   "cell_type": "code",
   "execution_count": 7,
   "id": "9612b117",
   "metadata": {},
   "outputs": [],
   "source": [
    "# umap_emb_rot = np.load(f\"{outdir}/embeds/umap/umap_emb_rot.npy\")\n",
    "# umap_emb_trans = np.load(f\"{outdir}/embeds/umap/umap_emb_trans.npy\")"
   ]
  },
  {
   "cell_type": "markdown",
   "id": "0b1e4185",
   "metadata": {},
   "source": [
    "Whole data UMap"
   ]
  },
  {
   "cell_type": "code",
   "execution_count": 9,
   "id": "72e56d7f",
   "metadata": {},
   "outputs": [],
   "source": [
    "# figure\n",
    "fig, axs = plt.subplots(1,2, figsize=(10,5))\n",
    "axs[0].scatter(umap_emb_rot[:, 0], umap_emb_rot[:, 1], alpha=0.1, s=1, rasterized=True)\n",
    "axs[0].set_title('Rots')\n",
    "axs[1].scatter(umap_emb_trans[:, 0], umap_emb_trans[:, 1], alpha=0.1, s=1, rasterized=True)\n",
    "axs[1].set_title('Trans')\n",
    "for ax in axs.flat:\n",
    "    ax.set(xlabel='UMAP1', ylabel='UMAP2')\n",
    "\n",
    "plt.tight_layout()\n",
    "plt.savefig(f\"{outdir}/pose_plots/poses_whole_umap.png\")"
   ]
  },
  {
   "cell_type": "markdown",
   "id": "723c5094",
   "metadata": {},
   "source": [
    "### 3D Classification"
   ]
  },
  {
   "cell_type": "markdown",
   "id": "3530202d",
   "metadata": {},
   "source": [
    "Run get_indices_for_csfile.py before loading indices pickle"
   ]
  },
  {
   "cell_type": "code",
   "execution_count": 17,
   "id": "b5d07304",
   "metadata": {},
   "outputs": [],
   "source": [
    "ind_dir = '/scratch/gpfs/ZHONGE/mj7341/research/00_moml/antibody/dataset/conformational/cryosparc'"
   ]
  },
  {
   "cell_type": "code",
   "execution_count": 14,
   "id": "2e990f97",
   "metadata": {},
   "outputs": [],
   "source": [
    "# original code: 20231210_fsc_auc\n",
    "cls_5 = []\n",
    "num_classes = 5\n",
    "for i in range(num_classes):\n",
    "    with open(ind_dir+'/3dcls/3dcls_cs'+str(i)+'.pkl', 'rb') as file:\n",
    "        cs_idx = pickle.load(file)\n",
    "    lst = []\n",
    "    for key, value in cs_idx.items():\n",
    "        lst.append(np.array(value))\n",
    "    stacked_array = np.hstack(lst)\n",
    "    cls_5.append(stacked_array)"
   ]
  },
  {
   "cell_type": "code",
   "execution_count": null,
   "id": "f9fc9db3",
   "metadata": {},
   "outputs": [],
   "source": [
    "# idx_lst = [item for sublist in particle_inds_dict.values() for item in sublist]\n",
    "# idx_array = np.array(idx_lst)"
   ]
  },
  {
   "cell_type": "code",
   "execution_count": 16,
   "id": "4c72f000",
   "metadata": {},
   "outputs": [],
   "source": [
    "# figure\n",
    "fig, axs = plt.subplots(1,2, figsize=(10,5))\n",
    "labels = np.arange(len(cls_5))\n",
    "for i in range(5):\n",
    "    axs[0].scatter(umap_emb_rot[cls_5[i]][:, 0], umap_emb_rot[cls_5[i]][:, 1], alpha=0.5, s=1, rasterized=True, label=labels[i])\n",
    "    axs[1].scatter(umap_emb_trans[cls_5[i]][:, 0], umap_emb_trans[cls_5[i]][:, 1], alpha=0.5, s=1, rasterized=True, label=labels[i])\n",
    "    \n",
    "axs[0].set_title('Rots')\n",
    "axs[1].set_title('Trans')\n",
    "for ax in axs.flat:\n",
    "    ax.set(xlabel='UMAP1', ylabel='UMAP2')\n",
    "\n",
    "plt.tight_layout()\n",
    "plt.savefig(f\"{ind_dir}/3dcls/poses_w_cls1_to_5_umap.png\")"
   ]
  },
  {
   "cell_type": "markdown",
   "id": "09e67cc9",
   "metadata": {},
   "source": [
    "# PCA"
   ]
  },
  {
   "cell_type": "code",
   "execution_count": 19,
   "id": "8248ce62",
   "metadata": {},
   "outputs": [],
   "source": [
    "from sklearn.decomposition import PCA\n",
    "def run_pca(z: np.ndarray):\n",
    "    pca = PCA(z.shape[1])\n",
    "    pca.fit(z)\n",
    "    pc = pca.transform(z)\n",
    "    return pc, pca"
   ]
  },
  {
   "cell_type": "code",
   "execution_count": 20,
   "id": "f0acbc27",
   "metadata": {},
   "outputs": [],
   "source": [
    "rots = poses[0].reshape(len(poses[0]),-1)\n",
    "pc_rot, pca_rot = run_pca(rots)\n",
    "pc_trans, pca_trans = run_pca(poses[1])"
   ]
  },
  {
   "cell_type": "markdown",
   "id": "4e6400ba",
   "metadata": {},
   "source": [
    "Run get_indices_for_csfile.py before loading indices pickle"
   ]
  },
  {
   "cell_type": "code",
   "execution_count": 21,
   "id": "d4577fda",
   "metadata": {},
   "outputs": [],
   "source": [
    "ind_dir = '/scratch/gpfs/ZHONGE/mj7341/research/00_moml/antibody/dataset/conformational/cryosparc'"
   ]
  },
  {
   "cell_type": "markdown",
   "id": "788b572c",
   "metadata": {},
   "source": [
    "### 3D Classification (num class=5)"
   ]
  },
  {
   "cell_type": "code",
   "execution_count": 22,
   "id": "40d0c389",
   "metadata": {},
   "outputs": [],
   "source": [
    "# original code: 20231210_fsc_auc\n",
    "cls_5 = []\n",
    "num_classes = 5\n",
    "for i in range(num_classes):\n",
    "    with open(ind_dir+'/3dcls/3dcls_cs'+str(i)+'.pkl', 'rb') as file:\n",
    "        cs_idx = pickle.load(file)\n",
    "    lst = []\n",
    "    for key, value in cs_idx.items():\n",
    "        lst.append(np.array(value))\n",
    "    stacked_array = np.hstack(lst)\n",
    "    cls_5.append(stacked_array)"
   ]
  },
  {
   "cell_type": "code",
   "execution_count": 23,
   "id": "1d2cd2f9",
   "metadata": {},
   "outputs": [],
   "source": [
    "fig, axs = plt.subplots(1,2, figsize=(10,5))\n",
    "labels = np.arange(len(cls_5))\n",
    "\n",
    "for i in range(5):\n",
    "    axs[0].scatter(pc_rot[cls_5[i]][:, 0], pc_rot[cls_5[i]][:, 1], alpha=0.5, s=1, rasterized=True, label=labels[i])\n",
    "    axs[1].scatter(pc_trans[cls_5[i]][:, 0], pc_trans[cls_5[i]][:, 1], alpha=0.5, s=1, rasterized=True, label=labels[i])\n",
    "    \n",
    "axs[0].set_title('Rots')\n",
    "axs[1].set_title('Trans')\n",
    "for ax in axs.flat:\n",
    "    ax.set(xlabel='UMAP1', ylabel='UMAP2')\n",
    "\n",
    "plt.tight_layout()\n",
    "plt.savefig(f\"{ind_dir}/3dcls/poses_w_cls1_to_5_PCs.png\")"
   ]
  },
  {
   "cell_type": "markdown",
   "id": "e10dfb4b",
   "metadata": {},
   "source": [
    "### 87 models "
   ]
  },
  {
   "cell_type": "code",
   "execution_count": 24,
   "id": "16dd3f88",
   "metadata": {},
   "outputs": [],
   "source": [
    "# figure\n",
    "fig, axs = plt.subplots(1,2, figsize=(10,5))\n",
    "for i in range(87):\n",
    "    idx = np.arange(1000*i,1000*(i+1))    \n",
    "    axs[0].scatter(pc_rot[idx][:, 0], pc_rot[idx][:, 1], alpha=0.5, s=1, rasterized=True, c=hexcodes[i])\n",
    "    axs[1].scatter(pc_trans[idx][:, 0], pc_trans[idx][:, 1], alpha=0.5, s=1, rasterized=True, c=hexcodes[i])\n",
    "\n",
    "axs[0].set_title('Rots')\n",
    "axs[1].set_title('Trans')\n",
    "for ax in axs.flat:\n",
    "    ax.set(xlabel='UMAP1', ylabel='UMAP2')\n",
    "\n",
    "plt.tight_layout()\n",
    "plt.savefig(f\"{ind_dir}/poses_w_87models_PCs.png\")"
   ]
  }
 ],
 "metadata": {
  "kernelspec": {
   "display_name": "tomodrgn [~/.conda/envs/tomodrgn/]",
   "language": "python",
   "name": "conda_tomodrgn"
  },
  "language_info": {
   "codemirror_mode": {
    "name": "ipython",
    "version": 3
   },
   "file_extension": ".py",
   "mimetype": "text/x-python",
   "name": "python",
   "nbconvert_exporter": "python",
   "pygments_lexer": "ipython3",
   "version": "3.10.13"
  }
 },
 "nbformat": 4,
 "nbformat_minor": 5
}
