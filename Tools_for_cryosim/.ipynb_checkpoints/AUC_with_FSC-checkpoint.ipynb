{
 "cells": [
  {
   "cell_type": "code",
   "execution_count": 1,
   "id": "c4e69d63",
   "metadata": {},
   "outputs": [],
   "source": [
    "import pandas as pd\n",
    "import numpy as np\n",
    "from sklearn import metrics\n",
    "from sklearn.metrics import roc_curve, auc\n",
    "from sklearn.metrics import roc_auc_score\n",
    "import pickle\n",
    "import os, sys\n",
    "import re\n",
    "import argparse\n",
    "\n",
    "log = print"
   ]
  },
  {
   "cell_type": "code",
   "execution_count": 2,
   "id": "8365f69f",
   "metadata": {},
   "outputs": [],
   "source": [
    "def natural_sort_key(s):\n",
    "    # Convert the string to a list of text and numbers\n",
    "    parts = re.split('([0-9]+)', s)\n",
    "    \n",
    "    # Convert numeric parts to integers for proper numeric comparison\n",
    "    parts[1::2] = map(int, parts[1::2])\n",
    "    \n",
    "    return parts"
   ]
  },
  {
   "cell_type": "markdown",
   "id": "d863c6ec",
   "metadata": {},
   "source": [
    "### AUC"
   ]
  },
  {
   "cell_type": "code",
   "execution_count": 3,
   "id": "7d61a0b6",
   "metadata": {},
   "outputs": [],
   "source": [
    "lst = os.listdir('/scratch/gpfs/ZHONGE/mj7341/MoML/cryosim/fscs/backproject/fscs/')\n",
    "sorted_lst = sorted(lst, key=natural_sort_key)"
   ]
  },
  {
   "cell_type": "code",
   "execution_count": null,
   "id": "bac7a3ac",
   "metadata": {},
   "outputs": [],
   "source": [
    "# fsc: [1/resolution, fsc]\n",
    "# fpr: 1/resolution\n",
    "# tpr: fsc\n",
    "# auc(fpr, tpr)"
   ]
  },
  {
   "cell_type": "code",
   "execution_count": 13,
   "id": "1d9995a9",
   "metadata": {},
   "outputs": [],
   "source": [
    "auc_values = np.zeros((len(sorted_lst)))\n",
    "for i in range(len(sorted_lst)):\n",
    "    fsc=np.loadtxt(\"/scratch/gpfs/ZHONGE/mj7341/MoML/cryosim/fscs/backproject/fscs/backproj_fsc_class1_\"+str(i+1)+\".txt\")\n",
    "    auc_values[i] = auc(fsc[:,0], fsc[:,1])\n",
    "print(auc_values)"
   ]
  },
  {
   "cell_type": "code",
   "execution_count": 15,
   "id": "e360c90d",
   "metadata": {},
   "outputs": [
    {
     "data": {
      "text/plain": [
       "(87,)"
      ]
     },
     "execution_count": 15,
     "metadata": {},
     "output_type": "execute_result"
    }
   ],
   "source": [
    "auc_values.shape"
   ]
  }
 ],
 "metadata": {
  "kernelspec": {
   "display_name": "tomodrgn [~/.conda/envs/tomodrgn/]",
   "language": "python",
   "name": "conda_tomodrgn"
  },
  "language_info": {
   "codemirror_mode": {
    "name": "ipython",
    "version": 3
   },
   "file_extension": ".py",
   "mimetype": "text/x-python",
   "name": "python",
   "nbconvert_exporter": "python",
   "pygments_lexer": "ipython3",
   "version": "3.10.13"
  }
 },
 "nbformat": 4,
 "nbformat_minor": 5
}
