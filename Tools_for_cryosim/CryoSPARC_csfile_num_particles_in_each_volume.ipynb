{
 "cells": [
  {
   "cell_type": "code",
   "execution_count": 1,
   "id": "c5c32968",
   "metadata": {},
   "outputs": [],
   "source": [
    "import pandas as pd\n",
    "import numpy as np\n",
    "from cryodrgn.source import ImageSource\n",
    "from cryodrgn.starfile import Starfile"
   ]
  },
  {
   "cell_type": "markdown",
   "id": "067db04e",
   "metadata": {},
   "source": [
    "Load Starfile"
   ]
  },
  {
   "cell_type": "code",
   "execution_count": 8,
   "id": "4318637d",
   "metadata": {},
   "outputs": [],
   "source": [
    "star_path = '/scratch/gpfs/ZHONGE/mj7341/research/00_moml/antibody/dataset/conformational/add_noise/128_chimera_resample/snr01/snr01_star.star'\n",
    "ori_s = Starfile.load(star_path)"
   ]
  },
  {
   "cell_type": "markdown",
   "id": "a420ef85",
   "metadata": {},
   "source": [
    "### 3D Classification"
   ]
  },
  {
   "cell_type": "code",
   "execution_count": 2,
   "id": "d05a853b",
   "metadata": {},
   "outputs": [
    {
     "data": {
      "text/plain": [
       "[b'J1/imported/011292923928413163237', b'1', b'128', b'noised.mrcs']"
      ]
     },
     "execution_count": 2,
     "metadata": {},
     "output_type": "execute_result"
    }
   ],
   "source": [
    "path = '/scratch/gpfs/ZHONGE/mj7341/cryosparc/CS-chimera-resample-data/J25/J25_passthrough_particles_class_0.cs'\n",
    "cs_file = np.load(path)\n",
    "cs_file[0][1].split(b'_')#[1].decode('utf-8') # volume number"
   ]
  },
  {
   "cell_type": "code",
   "execution_count": 4,
   "id": "d8eab29b",
   "metadata": {},
   "outputs": [],
   "source": [
    "num_particle_counts = {}\n",
    "for i in range(len(cs_file)):\n",
    "    num_vol = cs_file[i][1].split(b'_')[1].decode('utf-8')\n",
    "    if num_vol in num_particle_counts:\n",
    "        # Increment the count if the string is already a key\n",
    "        num_particle_counts[num_vol] += 1\n",
    "    else:\n",
    "        # Add the string as a new key with count 1 if it's not already in the dictionary\n",
    "        num_particle_counts[num_vol] = 1"
   ]
  },
  {
   "cell_type": "code",
   "execution_count": 7,
   "id": "005324ff",
   "metadata": {},
   "outputs": [
    {
     "name": "stdout",
     "output_type": "stream",
     "text": [
      "{2: 1000, 3: 1000, 4: 1000, 5: 1000, 6: 1000, 7: 1000, 8: 1000, 81: 1000, 82: 1000, 83: 1000, 84: 1000, 85: 1000, 86: 1000, 9: 999, 73: 991, 1: 989, 10: 982, 87: 955, 11: 877, 37: 718, 12: 405, 74: 345, 13: 117, 38: 113, 14: 21, 75: 12, 67: 8, 66: 4, 15: 1, 68: 1}\n"
     ]
    }
   ],
   "source": [
    "sorted_dict = dict(sorted(num_particle_counts.items(),key=lambda item: item[1], reverse=True))\n",
    "new_dict = {int(key): value for key, value in sorted_dict.items()}\n",
    "print(new_dict)"
   ]
  },
  {
   "cell_type": "markdown",
   "id": "ae7398a6",
   "metadata": {},
   "source": [
    "### 3DVA"
   ]
  },
  {
   "cell_type": "code",
   "execution_count": 9,
   "id": "841255db",
   "metadata": {},
   "outputs": [
    {
     "name": "stdout",
     "output_type": "stream",
     "text": [
      "16542\n"
     ]
    }
   ],
   "source": [
    "path = '/scratch/gpfs/ZHONGE/mj7341/cryosparc/CS-chimera-resample-data/J61/J61_cluster_000_particles.cs'\n",
    "cs_file = np.load(path)\n",
    "print(len(cs_file))"
   ]
  },
  {
   "cell_type": "code",
   "execution_count": 10,
   "id": "2fdeee7c",
   "metadata": {},
   "outputs": [],
   "source": [
    "num_particle_counts = {}\n",
    "for i in range(len(cs_file)):\n",
    "    num_vol = cs_file[i][1].split(b'_')[1].decode('utf-8')\n",
    "    if num_vol in num_particle_counts:\n",
    "        # Increment the count if the string is already a key\n",
    "        num_particle_counts[num_vol] += 1\n",
    "    else:\n",
    "        # Add the string as a new key with count 1 if it's not already in the dictionary\n",
    "        num_particle_counts[num_vol] = 1"
   ]
  },
  {
   "cell_type": "code",
   "execution_count": 11,
   "id": "b6c65c11",
   "metadata": {},
   "outputs": [
    {
     "name": "stdout",
     "output_type": "stream",
     "text": [
      "{55: 1000, 56: 1000, 57: 1000, 58: 1000, 59: 1000, 61: 1000, 60: 999, 62: 999, 54: 998, 53: 996, 52: 992, 63: 990, 51: 980, 64: 940, 65: 816, 50: 793, 66: 434, 49: 356, 48: 98, 67: 83, 47: 31, 68: 24, 69: 6, 80: 5, 14: 1, 70: 1}\n"
     ]
    }
   ],
   "source": [
    "sorted_dict = dict(sorted(num_particle_counts.items(),key=lambda item: item[1], reverse=True))\n",
    "new_dict = {int(key): value for key, value in sorted_dict.items()}\n",
    "print(new_dict)"
   ]
  },
  {
   "cell_type": "code",
   "execution_count": null,
   "id": "11b5f254",
   "metadata": {},
   "outputs": [],
   "source": []
  }
 ],
 "metadata": {
  "kernelspec": {
   "display_name": "tomodrgn [~/.conda/envs/tomodrgn/]",
   "language": "python",
   "name": "conda_tomodrgn"
  },
  "language_info": {
   "codemirror_mode": {
    "name": "ipython",
    "version": 3
   },
   "file_extension": ".py",
   "mimetype": "text/x-python",
   "name": "python",
   "nbconvert_exporter": "python",
   "pygments_lexer": "ipython3",
   "version": "3.10.13"
  }
 },
 "nbformat": 4,
 "nbformat_minor": 5
}
