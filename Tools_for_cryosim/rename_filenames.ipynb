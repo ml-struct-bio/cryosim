{
 "cells": [
  {
   "cell_type": "markdown",
   "id": "62ef3f8d",
   "metadata": {},
   "source": [
    "### Rename"
   ]
  },
  {
   "cell_type": "code",
   "execution_count": 1,
   "id": "67427b63",
   "metadata": {
    "scrolled": true
   },
   "outputs": [],
   "source": [
    "import pickle\n",
    "import os, sys\n",
    "import re\n",
    "import numpy as np\n",
    "import argparse\n",
    "\n",
    "log = print"
   ]
  },
  {
   "cell_type": "code",
   "execution_count": 2,
   "id": "47f6e63d",
   "metadata": {},
   "outputs": [],
   "source": [
    "def natural_sort_key(s):\n",
    "    # Convert the string to a list of text and numbers\n",
    "    parts = re.split('([0-9]+)', s)\n",
    "    \n",
    "    # Convert numeric parts to integers for proper numeric comparison\n",
    "    parts[1::2] = map(int, parts[1::2])\n",
    "    \n",
    "    return parts"
   ]
  },
  {
   "cell_type": "markdown",
   "id": "afb20680",
   "metadata": {},
   "source": [
    "### Rename original vols"
   ]
  },
  {
   "cell_type": "markdown",
   "id": "f5df6fdf",
   "metadata": {},
   "source": [
    "Conformational"
   ]
  },
  {
   "cell_type": "code",
   "execution_count": 3,
   "id": "f713ef4f",
   "metadata": {},
   "outputs": [],
   "source": [
    "import os\n",
    "\n",
    "# Path to the directory containing the files\n",
    "directory = '/scratch/gpfs/ZHONGE/mj7341/research/00_moml/antibody/dataset/original/vols/conformational/'\n",
    "\n",
    "# if not os.path.exists(dst_directory):\n",
    "#     os.makedirs(dst_directory)\n",
    "\n",
    "# List all files in the directory\n",
    "files = os.listdir(directory)\n",
    "lst = []\n",
    "for i in range(len(files)):\n",
    "    lst.append(directory + files[i])\n",
    "sorted_lst = sorted(lst, key=natural_sort_key)"
   ]
  },
  {
   "cell_type": "code",
   "execution_count": 6,
   "id": "89402845",
   "metadata": {
    "scrolled": true
   },
   "outputs": [],
   "source": [
    "# for file in sorted_lst:\n",
    "#     print(file.split('/')[-1][13:])"
   ]
  },
  {
   "cell_type": "code",
   "execution_count": 7,
   "id": "397b57b4",
   "metadata": {
    "scrolled": true
   },
   "outputs": [],
   "source": [
    "# Iterate through each file in the directory\n",
    "for i, filename in enumerate(sorted_lst):\n",
    "    # Check if the file is a regular file (not a directory)\n",
    "    if filename:\n",
    "        # Define the new file name here, for example, adding a prefix 'new_' to the file names\n",
    "        new_filename = str(i+1)+'_vol.mrc'\n",
    "        \n",
    "        # Rename the file\n",
    "        os.rename(filename, os.path.join(directory, new_filename))\n",
    "        print(f\"File {filename.split('/')[-1][13:]} has been renamed to {new_filename}\")"
   ]
  },
  {
   "cell_type": "code",
   "execution_count": null,
   "id": "05abca86",
   "metadata": {},
   "outputs": [],
   "source": []
  }
 ],
 "metadata": {
  "kernelspec": {
   "display_name": "tomodrgn [~/.conda/envs/tomodrgn/]",
   "language": "python",
   "name": "conda_tomodrgn"
  },
  "language_info": {
   "codemirror_mode": {
    "name": "ipython",
    "version": 3
   },
   "file_extension": ".py",
   "mimetype": "text/x-python",
   "name": "python",
   "nbconvert_exporter": "python",
   "pygments_lexer": "ipython3",
   "version": "3.10.13"
  }
 },
 "nbformat": 4,
 "nbformat_minor": 5
}
